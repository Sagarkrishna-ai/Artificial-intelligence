{
 "cells": [
  {
   "cell_type": "markdown",
   "id": "77510476",
   "metadata": {},
   "source": [
    "### This is a project which is made based on Google assistant , Alexa.\n"
   ]
  },
  {
   "cell_type": "code",
   "execution_count": 2,
   "id": "d0bdf35b",
   "metadata": {},
   "outputs": [
    {
     "name": "stdout",
     "output_type": "stream",
     "text": [
      "listening...\n",
      "what was the time\n",
      "04:17 PM\n",
      "listening...\n",
      "who is narendra modi\n",
      "Narendra Damodardas Modi (Gujarati: [ˈnəɾendɾə dɑmodəɾˈdɑs ˈmodiː] (listen); born 17 September 1950) is an Indian politician serving as the 14th and current prime minister of India since 2014.\n",
      "listening...\n",
      "what is an artificial intelligence what is an adoption do\n",
      "Artificial intelligence (AI) has been used in applications to alleviate certain problems throughout industry and academia.\n",
      "listening...\n",
      "who is chanakya\n",
      "Chanakya (Sanskrit: चाणक्य; IAST: Cāṇakya, pronunciation ; 375–283 BCE) was an ancient Indian polymath who was active as a teacher, author, strategist, philosopher, economist, jurist, and royal advisor.\n",
      "listening...\n",
      "where was taj mahal located\n",
      "The Taj Mahal (;  lit. 'Crown of the Palace'), is an Islamic ivory-white marble mausoleum on the right bank of the river Yamuna  in the Indian city of Agra.\n",
      "listening...\n",
      "where was charminar located\n",
      "The Charminar (lit. 'four minarets') is a mosque and monument located in Hyderabad, Telangana, India.\n",
      "listening...\n",
      "who is elon musk\n",
      "Elon Reeve Musk  ( EE-lon; born June 28, 1971) is a business magnate and investor.\n",
      "listening...\n"
     ]
    },
    {
     "ename": "UnboundLocalError",
     "evalue": "local variable 'command' referenced before assignment",
     "output_type": "error",
     "traceback": [
      "\u001b[1;31m---------------------------------------------------------------------------\u001b[0m",
      "\u001b[1;31mUnboundLocalError\u001b[0m                         Traceback (most recent call last)",
      "\u001b[1;32m~\\AppData\\Local\\Temp\\ipykernel_67340\\2343993497.py\u001b[0m in \u001b[0;36m<module>\u001b[1;34m\u001b[0m\n\u001b[0;32m     68\u001b[0m \u001b[1;33m\u001b[0m\u001b[0m\n\u001b[0;32m     69\u001b[0m \u001b[1;32mwhile\u001b[0m \u001b[1;32mTrue\u001b[0m\u001b[1;33m:\u001b[0m\u001b[1;33m\u001b[0m\u001b[1;33m\u001b[0m\u001b[0m\n\u001b[1;32m---> 70\u001b[1;33m     \u001b[0mrun_chitti\u001b[0m\u001b[1;33m(\u001b[0m\u001b[1;33m)\u001b[0m\u001b[1;33m\u001b[0m\u001b[1;33m\u001b[0m\u001b[0m\n\u001b[0m",
      "\u001b[1;32m~\\AppData\\Local\\Temp\\ipykernel_67340\\2343993497.py\u001b[0m in \u001b[0;36mrun_chitti\u001b[1;34m()\u001b[0m\n\u001b[0;32m     28\u001b[0m \u001b[1;33m\u001b[0m\u001b[0m\n\u001b[0;32m     29\u001b[0m \u001b[1;32mdef\u001b[0m \u001b[0mrun_chitti\u001b[0m\u001b[1;33m(\u001b[0m\u001b[1;33m)\u001b[0m\u001b[1;33m:\u001b[0m\u001b[1;33m\u001b[0m\u001b[1;33m\u001b[0m\u001b[0m\n\u001b[1;32m---> 30\u001b[1;33m     \u001b[0mcommand\u001b[0m\u001b[1;33m=\u001b[0m\u001b[0mtake_command\u001b[0m\u001b[1;33m(\u001b[0m\u001b[1;33m)\u001b[0m\u001b[1;33m\u001b[0m\u001b[1;33m\u001b[0m\u001b[0m\n\u001b[0m\u001b[0;32m     31\u001b[0m     \u001b[0mprint\u001b[0m\u001b[1;33m(\u001b[0m\u001b[0mcommand\u001b[0m\u001b[1;33m)\u001b[0m\u001b[1;33m\u001b[0m\u001b[1;33m\u001b[0m\u001b[0m\n\u001b[0;32m     32\u001b[0m     \u001b[1;32mif\u001b[0m \u001b[1;34m'play'\u001b[0m \u001b[1;32min\u001b[0m \u001b[0mcommand\u001b[0m\u001b[1;33m:\u001b[0m\u001b[1;33m\u001b[0m\u001b[1;33m\u001b[0m\u001b[0m\n",
      "\u001b[1;32m~\\AppData\\Local\\Temp\\ipykernel_67340\\2343993497.py\u001b[0m in \u001b[0;36mtake_command\u001b[1;34m()\u001b[0m\n\u001b[0;32m     25\u001b[0m     \u001b[1;32mexcept\u001b[0m\u001b[1;33m:\u001b[0m\u001b[1;33m\u001b[0m\u001b[1;33m\u001b[0m\u001b[0m\n\u001b[0;32m     26\u001b[0m         \u001b[1;32mpass\u001b[0m\u001b[1;33m\u001b[0m\u001b[1;33m\u001b[0m\u001b[0m\n\u001b[1;32m---> 27\u001b[1;33m     \u001b[1;32mreturn\u001b[0m \u001b[0mcommand\u001b[0m\u001b[1;33m\u001b[0m\u001b[1;33m\u001b[0m\u001b[0m\n\u001b[0m\u001b[0;32m     28\u001b[0m \u001b[1;33m\u001b[0m\u001b[0m\n\u001b[0;32m     29\u001b[0m \u001b[1;32mdef\u001b[0m \u001b[0mrun_chitti\u001b[0m\u001b[1;33m(\u001b[0m\u001b[1;33m)\u001b[0m\u001b[1;33m:\u001b[0m\u001b[1;33m\u001b[0m\u001b[1;33m\u001b[0m\u001b[0m\n",
      "\u001b[1;31mUnboundLocalError\u001b[0m: local variable 'command' referenced before assignment"
     ]
    }
   ],
   "source": [
    "import speech_recognition as sr\n",
    "import pyttsx3\n",
    "import pywhatkit\n",
    "import datetime\n",
    "import wikipedia\n",
    "import cv2\n",
    "\n",
    "listener=sr.Recognizer()\n",
    "engine= pyttsx3.init(debug=True)\n",
    "voices=engine.getProperty(\"voices\")\n",
    "engine.setProperty('voice',voices[1].id)\n",
    "def talk(text):\n",
    "    engine.say(text)\n",
    "    engine.runAndWait()\n",
    "\n",
    "def take_command():\n",
    "    try:\n",
    "        with sr.Microphone() as source:\n",
    "            print(\"listening...\")\n",
    "            voice= listener.listen(source)\n",
    "            command=listener.recognize_google(voice)\n",
    "            command=command.lower()\n",
    "            \n",
    "           \n",
    "    except:\n",
    "        pass\n",
    "    return command\n",
    "\n",
    "def run_chitti():\n",
    "    command=take_command()\n",
    "    print(command)\n",
    "    if 'play' in command:\n",
    "        song=command.replace('play','')\n",
    "        talk('playing' + song)\n",
    "        pywhatkit.playonyt(song)\n",
    "    elif 'time' in command:\n",
    "        time=datetime.datetime.now().strftime('%I:%M %p')                               \n",
    "        talk('current time is'+ time)\n",
    "        print(time)\n",
    "    elif 'who ' in command:\n",
    "        person=command.replace('who ','')\n",
    "        info=wikipedia.summary(person, 1)\n",
    "        print(info)\n",
    "        talk(info)\n",
    "    elif 'what ' in command:\n",
    "        person1=command.replace('what ','')\n",
    "        info1=wikipedia.summary(person1, 1)\n",
    "        print(info1)\n",
    "        talk(info1)\n",
    "    elif 'where ' in command:\n",
    "        place=command.replace('where','')\n",
    "        info2=wikipedia.summary(place, 1)\n",
    "        print(info2)\n",
    "        talk(info2)\n",
    "    \n",
    "\n",
    "    elif 'when' in command:\n",
    "        when=command.replace('when','')\n",
    "        info3=wikipedia.summary(when,1)\n",
    "        print(info3)\n",
    "        talk(info3)\n",
    "    elif 'rest' in command:\n",
    "        stop=command.replace('rest','')\n",
    "        talk('thanks for your consern call me if u need any thing')\n",
    "        print(talk)\n",
    "       \n",
    "    \n",
    "        \n",
    "while True:\n",
    "    run_chitti()\n"
   ]
  },
  {
   "cell_type": "code",
   "execution_count": null,
   "id": "fff5c161",
   "metadata": {},
   "outputs": [],
   "source": []
  },
  {
   "cell_type": "code",
   "execution_count": null,
   "id": "056edb5b",
   "metadata": {},
   "outputs": [],
   "source": []
  }
 ],
 "metadata": {
  "kernelspec": {
   "display_name": "Python 3 (ipykernel)",
   "language": "python",
   "name": "python3"
  },
  "language_info": {
   "codemirror_mode": {
    "name": "ipython",
    "version": 3
   },
   "file_extension": ".py",
   "mimetype": "text/x-python",
   "name": "python",
   "nbconvert_exporter": "python",
   "pygments_lexer": "ipython3",
   "version": "3.9.13"
  }
 },
 "nbformat": 4,
 "nbformat_minor": 5
}
